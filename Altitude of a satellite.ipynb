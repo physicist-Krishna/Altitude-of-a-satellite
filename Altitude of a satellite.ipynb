{
 "cells": [
  {
   "cell_type": "code",
   "execution_count": 1,
   "metadata": {},
   "outputs": [
    {
     "name": "stdout",
     "output_type": "stream",
     "text": [
      " Enter the value of the time in hours:12\n",
      "The altitude of the satellite is 20230286.50149144 m\n",
      "The height is  20230.28650149144 km\n"
     ]
    }
   ],
   "source": [
    "t = float(input(' Enter the value of the time in hours:'))\n",
    "R = 6371e3      # radius of the earth in SI unit\n",
    "M = 5.97e24     # mass of the earth in SI unit\n",
    "G = 6.67e-11    # Newton's gravitational constant\n",
    "\n",
    "#import numpy as np\n",
    " \n",
    "from numpy import pi\n",
    "\n",
    "    \n",
    "T = t*3600      # time in seconds\n",
    "a = G*M*T*T\n",
    "b = 4*pi**2\n",
    "height_m = (a/b)**(1/3) - R\n",
    "h = height_m/1000    # height in km\n",
    "\n",
    "print('The altitude of the satellite is', height_m, 'm')\n",
    "print('The height is ', h, 'km')"
   ]
  },
  {
   "cell_type": "code",
   "execution_count": null,
   "metadata": {},
   "outputs": [],
   "source": []
  }
 ],
 "metadata": {
  "kernelspec": {
   "display_name": "Python 3 (ipykernel)",
   "language": "python",
   "name": "python3"
  },
  "language_info": {
   "codemirror_mode": {
    "name": "ipython",
    "version": 3
   },
   "file_extension": ".py",
   "mimetype": "text/x-python",
   "name": "python",
   "nbconvert_exporter": "python",
   "pygments_lexer": "ipython3",
   "version": "3.9.7"
  }
 },
 "nbformat": 4,
 "nbformat_minor": 2
}
